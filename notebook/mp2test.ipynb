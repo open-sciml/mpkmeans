{
 "cells": [
  {
   "cell_type": "code",
   "execution_count": 1,
   "id": "d18cce53-ab71-428e-ad3f-6186406cd240",
   "metadata": {},
   "outputs": [],
   "source": [
    "import numpy as np\n",
    "from src.kmeans import mpKMeans, StandardKMeans2,chop as kchop\n",
    "from sklearn.datasets import make_blobs\n",
    "from pychop import chop\n",
    "import matplotlib.pyplot as plt\n",
    "from sklearn.metrics.cluster import adjusted_rand_score, adjusted_mutual_info_score\n",
    "from tqdm import tqdm \n",
    "import pandas as pd\n",
    "\n",
    "sample_seeds = [0, 42, 2024]\n",
    "ct = 10\n",
    "DELTAS = np.arange(1, 2.1, 0.1)\n",
    "STDS = [1, 2]\n"
   ]
  },
  {
   "cell_type": "code",
   "execution_count": 2,
   "id": "2b3258a0-5b53-4c45-b468-58644c1b542a",
   "metadata": {},
   "outputs": [
    {
     "name": "stderr",
     "output_type": "stream",
     "text": [
      "100%|██████████| 11/11 [00:30<00:00,  2.77s/it]\n",
      "100%|██████████| 11/11 [00:42<00:00,  3.90s/it]\n"
     ]
    }
   ],
   "source": [
    "LOW_PREC = kchop(np.float16)\n",
    "sse_arr = np.zeros((len(STDS), len(DELTAS)))\n",
    "trigger_arr = np.zeros((len(STDS), len(DELTAS)))\n",
    "ari_arr = np.zeros((len(STDS), len(DELTAS)))\n",
    "ami_arr = np.zeros((len(STDS), len(DELTAS)))\n",
    "\n",
    "norm_sse_arr = np.zeros((len(STDS), len(DELTAS)))\n",
    "norm_trigger_arr = np.zeros((len(STDS), len(DELTAS)))\n",
    "norm_ari_arr = np.zeros((len(STDS), len(DELTAS)))\n",
    "norm_ami_arr = np.zeros((len(STDS), len(DELTAS)))\n",
    "\n",
    "for s in range(len(STDS)):\n",
    "    std = STDS[s]\n",
    "    for d in tqdm(range(len(DELTAS))):\n",
    "        delta = DELTAS[d]\n",
    "        for seed in sample_seeds:\n",
    "            X, y = make_blobs(n_samples=2000, n_features=2, cluster_std=std, centers=ct, random_state=seed)\n",
    "\n",
    "            mu = X.mean(axis=0)\n",
    "            sigma = X.std(axis=0)\n",
    "            norm_X = (X - mu) / sigma\n",
    "\n",
    "            mpkmeans = mpKMeans(n_clusters=ct, seeding='d2', low_prec=LOW_PREC, delta=delta, verbose=0)\n",
    "            mpkmeans.fit(X)\n",
    "\n",
    "            norm_mpkmeans = mpKMeans(n_clusters=ct, seeding='d2', low_prec=LOW_PREC, delta=delta, verbose=0)\n",
    "            norm_mpkmeans.fit(norm_X)\n",
    "            \n",
    "            ari_arr[s, d] += adjusted_rand_score(y, mpkmeans.labels) / len(sample_seeds)\n",
    "            ami_arr[s, d] += adjusted_mutual_info_score(y, mpkmeans.labels) / len(sample_seeds) \n",
    "             \n",
    "            sse_arr[s, d] += mpkmeans.inertia[-1] / len(sample_seeds)\n",
    "            trigger_arr[s, d] += mpkmeans.low_prec_trigger / len(sample_seeds)\n",
    "            \n",
    "            norm_ari_arr[s, d] += adjusted_rand_score(y, norm_mpkmeans.labels) / len(sample_seeds)\n",
    "            norm_ami_arr[s, d] += adjusted_mutual_info_score(y, norm_mpkmeans.labels) / len(sample_seeds) \n",
    "             \n",
    "            norm_sse_arr[s, d] += norm_mpkmeans.inertia[-1] / len(sample_seeds)\n",
    "            norm_trigger_arr[s, d] += norm_mpkmeans.low_prec_trigger / len(sample_seeds)"
   ]
  },
  {
   "cell_type": "code",
   "execution_count": 3,
   "id": "37941994-9087-4dd5-a879-ac590f40908c",
   "metadata": {},
   "outputs": [],
   "source": [
    "pd.DataFrame(ari_arr).to_csv('results/ari_arr_fp16.csv')\n",
    "pd.DataFrame(ami_arr).to_csv('results/ami_arr_fp16.csv')\n",
    "pd.DataFrame(sse_arr).to_csv('results/sse_arr_fp16.csv')\n",
    "pd.DataFrame(trigger_arr).to_csv('results/trigger_arr_fp16.csv')\n",
    "\n",
    "\n",
    "pd.DataFrame(norm_ari_arr).to_csv('results/norm_ari_arr_fp16.csv')\n",
    "pd.DataFrame(norm_ami_arr).to_csv('results/norm_ami_arr_fp16.csv')\n",
    "pd.DataFrame(norm_sse_arr).to_csv('results/norm_sse_arr_fp16.csv')\n",
    "pd.DataFrame(norm_trigger_arr).to_csv('results/norm_trigger_arr_fp16.csv')"
   ]
  },
  {
   "cell_type": "code",
   "execution_count": 4,
   "id": "433d1aec-cd0b-4f58-bdad-5707a17bf10a",
   "metadata": {},
   "outputs": [
    {
     "name": "stderr",
     "output_type": "stream",
     "text": [
      "  0%|          | 0/11 [00:00<?, ?it/s]/home/research/xinyechen/mpkmeans/src/kmeans.py:228: RuntimeWarning: Mean of empty slice.\n",
      "  new_centers = np.array([X[labels == i].mean(axis=0) for i in range(self.centers.shape[0])])\n",
      "/usr/lib/python3/dist-packages/numpy/core/_methods.py:184: RuntimeWarning: invalid value encountered in divide\n",
      "  ret = um.true_divide(\n",
      "100%|██████████| 11/11 [07:33<00:00, 41.20s/it]\n",
      "  0%|          | 0/11 [00:00<?, ?it/s]/home/research/xinyechen/mpkmeans/src/kmeans.py:228: RuntimeWarning: Mean of empty slice.\n",
      "  new_centers = np.array([X[labels == i].mean(axis=0) for i in range(self.centers.shape[0])])\n",
      "/usr/lib/python3/dist-packages/numpy/core/_methods.py:184: RuntimeWarning: invalid value encountered in divide\n",
      "  ret = um.true_divide(\n",
      "100%|██████████| 11/11 [10:24<00:00, 56.78s/it]\n"
     ]
    }
   ],
   "source": [
    "LOW_PREC = chop(prec='q52', rmode=1)\n",
    "sse_arr = np.zeros((len(STDS), len(DELTAS)))\n",
    "trigger_arr = np.zeros((len(STDS), len(DELTAS)))\n",
    "ari_arr = np.zeros((len(STDS), len(DELTAS)))\n",
    "ami_arr = np.zeros((len(STDS), len(DELTAS)))\n",
    "\n",
    "norm_sse_arr = np.zeros((len(STDS), len(DELTAS)))\n",
    "norm_trigger_arr = np.zeros((len(STDS), len(DELTAS)))\n",
    "norm_ari_arr = np.zeros((len(STDS), len(DELTAS)))\n",
    "norm_ami_arr = np.zeros((len(STDS), len(DELTAS)))\n",
    "\n",
    "for s in range(len(STDS)):\n",
    "    std = STDS[s]\n",
    "    for d in tqdm(range(len(DELTAS))):\n",
    "        delta = DELTAS[d]\n",
    "        for seed in sample_seeds:\n",
    "            X, y = make_blobs(n_samples=2000, n_features=2,\n",
    "                              cluster_std=std, centers=ct,\n",
    "                              random_state=seed)\n",
    "\n",
    "            mu = X.mean(axis=0)\n",
    "            sigma = X.std(axis=0)\n",
    "            norm_X = (X - mu) / sigma\n",
    "\n",
    "            mpkmeans = mpKMeans(n_clusters=ct, seeding='d2', low_prec=LOW_PREC, delta=delta, verbose=0)\n",
    "            mpkmeans.fit(X)\n",
    "\n",
    "            norm_mpkmeans = mpKMeans(n_clusters=ct, seeding='d2', low_prec=LOW_PREC, delta=delta, verbose=0)\n",
    "            norm_mpkmeans.fit(norm_X)\n",
    "            \n",
    "            ari_arr[s, d] += adjusted_rand_score(y, mpkmeans.labels) / len(sample_seeds)\n",
    "            ami_arr[s, d] += adjusted_mutual_info_score(y, mpkmeans.labels) / len(sample_seeds) \n",
    "             \n",
    "            sse_arr[s, d] += mpkmeans.inertia[-1] / len(sample_seeds)\n",
    "            trigger_arr[s, d] += mpkmeans.low_prec_trigger / len(sample_seeds)\n",
    "            \n",
    "            norm_ari_arr[s, d] += adjusted_rand_score(y, norm_mpkmeans.labels) / len(sample_seeds)\n",
    "            norm_ami_arr[s, d] += adjusted_mutual_info_score(y, norm_mpkmeans.labels) / len(sample_seeds) \n",
    "             \n",
    "            norm_sse_arr[s, d] += norm_mpkmeans.inertia[-1] / len(sample_seeds)\n",
    "            norm_trigger_arr[s, d] += norm_mpkmeans.low_prec_trigger / len(sample_seeds)"
   ]
  },
  {
   "cell_type": "code",
   "execution_count": 5,
   "id": "296587d8-e0ae-47ea-9770-80049a8e3778",
   "metadata": {},
   "outputs": [],
   "source": [
    "pd.DataFrame(ari_arr).to_csv('results/ari_arr_q52.csv')\n",
    "pd.DataFrame(ami_arr).to_csv('results/ami_arr_q52.csv')\n",
    "pd.DataFrame(sse_arr).to_csv('results/sse_arr_q52.csv')\n",
    "pd.DataFrame(trigger_arr).to_csv('results/trigger_arr_q52.csv')\n",
    "\n",
    "pd.DataFrame(norm_ari_arr).to_csv('results/norm_ari_arr_q52.csv')\n",
    "pd.DataFrame(norm_ami_arr).to_csv('results/norm_ami_arr_q52.csv')\n",
    "pd.DataFrame(norm_sse_arr).to_csv('results/norm_sse_arr_q52.csv')\n",
    "pd.DataFrame(norm_trigger_arr).to_csv('results/norm_trigger_arr_q52.csv')"
   ]
  },
  {
   "cell_type": "code",
   "execution_count": null,
   "id": "c25ca18b-2f59-4ff2-b0d4-4efa4a0575f7",
   "metadata": {},
   "outputs": [],
   "source": []
  }
 ],
 "metadata": {
  "kernelspec": {
   "display_name": "Python 3 (ipykernel)",
   "language": "python",
   "name": "python3"
  },
  "language_info": {
   "codemirror_mode": {
    "name": "ipython",
    "version": 3
   },
   "file_extension": ".py",
   "mimetype": "text/x-python",
   "name": "python",
   "nbconvert_exporter": "python",
   "pygments_lexer": "ipython3",
   "version": "3.11.2"
  }
 },
 "nbformat": 4,
 "nbformat_minor": 5
}
